{
 "cells": [
  {
   "cell_type": "markdown",
   "metadata": {},
   "source": [
    "# MLP with sentence level embedding"
   ]
  },
  {
   "cell_type": "code",
   "execution_count": 1,
   "metadata": {},
   "outputs": [],
   "source": [
    "import numpy as np \n",
    "import pandas as pd\n",
    "import matplotlib.pyplot as plt \n",
    "import torch \n",
    "import torch.nn.functional as F"
   ]
  },
  {
   "cell_type": "code",
   "execution_count": 2,
   "metadata": {},
   "outputs": [],
   "source": [
    "papers = pd.read_csv(\"data/sci_papers.csv\")"
   ]
  },
  {
   "cell_type": "code",
   "execution_count": 3,
   "metadata": {},
   "outputs": [],
   "source": [
    "df = papers\n",
    "counts = df[\"category\"].value_counts()\n",
    "categories = df.category.unique()\n",
    "others = counts.index[5:].tolist()\n",
    "df.loc[df['category'].isin(others), 'category'] = 'others'\n"
   ]
  },
  {
   "cell_type": "code",
   "execution_count": 4,
   "metadata": {},
   "outputs": [
    {
     "data": {
      "text/plain": [
       "63800"
      ]
     },
     "execution_count": 4,
     "metadata": {},
     "output_type": "execute_result"
    }
   ],
   "source": [
    "titles = df[\"title\"]\n",
    "\n",
    "# Create a list of all unique words by splitting titles into words and using set\n",
    "unique_words = set()\n",
    "for title in titles:\n",
    "    # Split each title into words and convert to lowercase\n",
    "    words = ''.join(char.lower() for char in title if char.isalnum() or char.isspace()).split()\n",
    "    unique_words.update(words)\n",
    "\n",
    "# Convert set back to list for easier manipulation\n",
    "vocab = sorted(list(unique_words))\n",
    "len(vocab)"
   ]
  },
  {
   "cell_type": "markdown",
   "metadata": {},
   "source": [
    "Each word is embbeded with a emb_dim dimensional vector. \n",
    "\n",
    "The sentence is represented by a vector of size emb_dim, which is the coordonate by coordonate average of the word vectors.\n",
    "\n",
    "The sentence vector is then passed to a MLP \n"
   ]
  },
  {
   "cell_type": "code",
   "execution_count": null,
   "metadata": {},
   "outputs": [
    {
     "data": {
      "text/plain": [
       "'05mb'"
      ]
     },
     "execution_count": 16,
     "metadata": {},
     "output_type": "execute_result"
    }
   ],
   "source": [
    "# each word is embbeded in a emb_dim dimension space\n",
    "# So each title is embbeded as a list of word embeddings \n",
    "# As each title has a different length we will resort to pooling methods\n",
    "\n",
    "categories = df.category.unique()\n",
    "\n",
    "wtoi = {t:i for i,t in enumerate(vocab)} # word to integer \n",
    "itow = {i:t for i,t in enumerate(vocab)} # integer to word\n",
    "\n",
    "ttoi = {t:i for i,t in enumerate(titles)} # title to integer \n",
    "itot = {i:t for i,t in enumerate(titles)} # integer to title\n",
    "\n",
    "ctoi = {c:i for i,c in enumerate(categories)} # category to integer\n",
    "itoc = {i:c for i,c in enumerate(categories)} # integer to category"
   ]
  },
  {
   "cell_type": "code",
   "execution_count": 35,
   "metadata": {},
   "outputs": [
    {
     "data": {
      "text/plain": [
       "tensor([-0.6153,  0.5259, -0.8577, -0.8295, -0.7789, -0.7647,  0.9504,  0.6444,\n",
       "        -2.1112,  0.6415,  0.8978, -2.2323, -0.3458,  0.7734, -1.8219,  0.0540,\n",
       "         0.2682, -1.5159,  0.3070,  1.2846, -0.0076,  1.4525, -1.4885, -2.0725,\n",
       "         1.3749,  1.0636,  3.3695,  0.3144, -0.8884, -0.6175])"
      ]
     },
     "execution_count": 35,
     "metadata": {},
     "output_type": "execute_result"
    }
   ],
   "source": [
    "emb_dim = 30\n",
    "C = torch.randn((len(vocab), emb_dim))\n",
    "C[0]"
   ]
  },
  {
   "cell_type": "code",
   "execution_count": null,
   "metadata": {},
   "outputs": [],
   "source": [
    "\n",
    "emb_titles = []\n",
    "for t in titles:\n",
    "    t_clean = ''.join(char.lower() if char.isalnum() or char.isspace() else '' for char in t)\n",
    "    words = t_clean.split()\n",
    "\n",
    "    indices = [wtoi[w] for w in words if w in wtoi]\n",
    "    word_embeddings = C[indices] # (nbr_words_in_title, emb_dim)\n",
    "    avg_embedding = word_embeddings.mean(dim=0) # mean \n",
    "    \n",
    "    emb_titles.append(avg_embedding)\n",
    "\n",
    "emb_titles = torch.stack(emb_titles)\n",
    "emb_titles.shape # (nbr_titles, emb_dim)"
   ]
  },
  {
   "cell_type": "code",
   "execution_count": 52,
   "metadata": {},
   "outputs": [
    {
     "name": "stdout",
     "output_type": "stream",
     "text": [
      "tensor([-0.7358, -0.4954,  0.9357,  0.2470, -0.9818,  0.1556, -0.8622,  1.9042,\n",
      "        -0.9372, -0.3247, -0.9486, -1.4173, -0.2634, -1.0253, -1.0854, -1.8456,\n",
      "        -0.7672, -0.4807, -0.6087,  0.3431, -0.1922, -0.0295,  0.5408,  0.5881,\n",
      "         0.4310,  1.2848,  1.2635, -0.1438, -0.6674, -0.0533])\n",
      "tensor([[-0.5071, -1.6392,  0.6542,  0.2879, -1.0984,  0.4662, -0.6844,  0.5417,\n",
      "         -0.3268, -0.8851, -0.8513, -0.9094, -0.1195,  0.1104, -0.9749, -1.1119,\n",
      "         -1.3838,  0.2454, -1.3529,  0.2864,  0.4461,  0.8756,  1.3577,  1.5708,\n",
      "          0.5058,  1.2058,  2.0327, -0.0757,  0.7134, -0.3757],\n",
      "        [-0.9646,  0.6484,  1.2173,  0.2061, -0.8652, -0.1550, -1.0400,  3.2666,\n",
      "         -1.5476,  0.2356, -1.0459, -1.9252, -0.4073, -2.1610, -1.1958, -2.5793,\n",
      "         -0.1507, -1.2069,  0.1355,  0.3998, -0.8305, -0.9345, -0.2761, -0.3946,\n",
      "          0.3562,  1.3638,  0.4942, -0.2119, -2.0482,  0.2692]])\n",
      "tensor([-0.7358, -0.4954,  0.9357,  0.2470, -0.9818,  0.1556, -0.8622,  1.9042,\n",
      "        -0.9372, -0.3247, -0.9486, -1.4173, -0.2634, -1.0253, -1.0854, -1.8456,\n",
      "        -0.7672, -0.4807, -0.6087,  0.3431, -0.1922, -0.0295,  0.5408,  0.5881,\n",
      "         0.4310,  1.2848,  1.2635, -0.1438, -0.6674, -0.0533])\n"
     ]
    }
   ],
   "source": [
    "print(emb_titles[0])  # prints the embedding of the first title\n",
    "\n",
    "t_clean = ''.join(char.lower() if char.isalnum() or char.isspace() else '' for char in titles[0])\n",
    "words = t_clean.split()\n",
    "word_embeddings = torch.stack([C[wtoi[w]] for w in words])\n",
    "print(word_embeddings)  # prints embeddings of each word in the first title\n",
    "print(torch.mean(word_embeddings, dim=0))  # prints the mean embedding across all words$\n",
    "\n",
    "# we see that the mean pooling works\n",
    "# In this simple example (2 words) we see that the embedded title is the coordinate-wise mean of the embedded words\n",
    "\n",
    "# Now, we can train an MLP with the input beeing a title embbeding "
   ]
  },
  {
   "cell_type": "code",
   "execution_count": 53,
   "metadata": {},
   "outputs": [
    {
     "data": {
      "text/plain": [
       "(tensor([0, 1, 2, 3, 4, 5, 6, 7, 8, 9]),\n",
       " tensor([0, 0, 0, 0, 0, 0, 0, 0, 0, 0]))"
      ]
     },
     "execution_count": 53,
     "metadata": {},
     "output_type": "execute_result"
    }
   ],
   "source": [
    "\n",
    "def build_dataset(papers):  \n",
    "    X = torch.arange(0, papers.shape[0])\n",
    "    Y = torch.tensor([ctoi[df[\"category\"][i]] for i in range(0, papers.shape[0])])\n",
    "    #print(X.shape, Y.shape)\n",
    "    return X, Y\n",
    "\n",
    "build_dataset(df[:10])"
   ]
  },
  {
   "cell_type": "code",
   "execution_count": 54,
   "metadata": {},
   "outputs": [],
   "source": [
    "import random\n",
    "random.seed(42)\n",
    "indices = list(range(len(papers)))\n",
    "random.shuffle(indices)\n",
    "papers_shuffled = papers.iloc[indices].reset_index(drop=True) # shuffled dataset \n",
    "n1 = int(0.8*len(papers_shuffled))\n",
    "n2 = int(0.9*len(papers_shuffled))\n",
    "Xtr, Ytr = build_dataset(papers_shuffled[:n1])\n",
    "Xdev, Ydev = build_dataset(papers_shuffled[n1:n2])\n",
    "Xte, Yte = build_dataset(papers_shuffled[n2:])"
   ]
  },
  {
   "cell_type": "code",
   "execution_count": 91,
   "metadata": {},
   "outputs": [
    {
     "name": "stdout",
     "output_type": "stream",
     "text": [
      "torch.Size([63800, 30])\n",
      "torch.Size([30, 256])\n",
      "torch.Size([256])\n",
      "torch.Size([256, 256])\n",
      "torch.Size([256])\n",
      "torch.Size([256, 256])\n",
      "torch.Size([256])\n",
      "torch.Size([256, 6])\n",
      "torch.Size([6])\n",
      "2055062\n"
     ]
    }
   ],
   "source": [
    "nbr_added_layers = 2\n",
    "nbr_neurons_hidden = [256 for _ in range(nbr_added_layers)]\n",
    "nbr_neurons_first = 256\n",
    "nbr_categories = len(categories)\n",
    "nbr_titles = len(titles)\n",
    "vocab_size = len(vocab)\n",
    "emb_dim = 30\n",
    "\n",
    "g = torch.Generator().manual_seed(2147483647) \n",
    "C = torch.randn((vocab_size, emb_dim), generator=g)\n",
    "W1 = torch.randn((emb_dim, nbr_neurons_first), generator=g) / nbr_neurons_first**0.5 # kaiming init\n",
    "b1 = torch.randn(nbr_neurons_first, generator=g) * 0.1\n",
    "\n",
    "Ws = []\n",
    "bs = []\n",
    "parameters = [C, W1, b1]\n",
    "for i in range(0, nbr_added_layers):\n",
    "    if i == 0:\n",
    "        W = torch.randn((nbr_neurons_first, nbr_neurons_hidden[i]), generator=g) / nbr_neurons_hidden[i]**0.5\n",
    "    else : \n",
    "        W = torch.randn((nbr_neurons_hidden[i], nbr_neurons_hidden[i]), generator=g) / nbr_neurons_hidden[i]**0.5\n",
    "    \n",
    "    b = torch.randn(nbr_neurons_hidden[i], generator=g) * 0.1\n",
    "    parameters.append(W)\n",
    "    parameters.append(b)\n",
    "    Ws.append(W)\n",
    "    bs.append(b)\n",
    "\n",
    "Wlast = torch.randn((nbr_neurons_hidden[-1], nbr_categories), generator=g) / nbr_neurons_hidden[-1]**0.5\n",
    "blast = torch.randn((nbr_categories), generator=g) * 0.1\n",
    "\n",
    "parameters.append(Wlast)\n",
    "parameters.append(blast)\n",
    "\n",
    "for p in parameters:\n",
    "    print(p.shape)\n",
    "\n",
    "print(sum(p.nelement() for p in parameters))"
   ]
  },
  {
   "cell_type": "code",
   "execution_count": 92,
   "metadata": {},
   "outputs": [],
   "source": [
    "for p in parameters:\n",
    "        p.requires_grad = True \n",
    "stepi, lossi, lri = [], [], []"
   ]
  },
  {
   "cell_type": "code",
   "execution_count": null,
   "metadata": {},
   "outputs": [],
   "source": [
    "n = 10*10**6\n",
    "batch_size = 100\n",
    "lre = torch.linspace(-3, 0, n)\n",
    "lrs = 10**lre #from 0.001 to 1 exponentielly stepped \n",
    "\n",
    "for i in range(n):\n",
    "    # minibatch construct \n",
    "    ixs = torch.randint(0, C.shape[0], (batch_size,)) \n",
    "\n",
    "    # Forward pass \n",
    "    emb = C[ixs] \n",
    "    x = torch.tanh(emb @ W1 + b1) \n",
    "\n",
    "    for W, b in zip(Ws, bs): \n",
    "        x = torch.tanh(x @ W + b)\n",
    "\n",
    "    \n",
    "    logits = x @ Wlast + blast\n",
    "    loss = F.cross_entropy(logits,Ytr[ixs]) \n",
    "\n",
    "    # Backward pass\n",
    "    for p in parameters:\n",
    "        p.grad = None\n",
    "    loss.backward()\n",
    "\n",
    "    # Use modulo to cycle through learning rates\n",
    "    #lr = lrs[i % len(lrs)]\n",
    "    lr = 0.1\n",
    "    for p in parameters:\n",
    "        p.data += -lr * p.grad \n",
    "\n",
    "    stepi.append(i)\n",
    "    #lri.append(lr.item())\n",
    "    lossi.append(loss.item())\n"
   ]
  },
  {
   "cell_type": "code",
   "execution_count": 85,
   "metadata": {},
   "outputs": [
    {
     "name": "stdout",
     "output_type": "stream",
     "text": [
      "ltrain :  tensor(1.6713, grad_fn=<NllLossBackward0>)\n",
      "dev :  tensor(1.7495, grad_fn=<NllLossBackward0>)\n",
      "test :  tensor(1.7495, grad_fn=<NllLossBackward0>)\n"
     ]
    }
   ],
   "source": [
    "def deep_model_test(X,Y):\n",
    "    # Get the titles for these indices\n",
    "    batch_titles = papers_shuffled.iloc[X.numpy()]['title']\n",
    "    \n",
    "    # Calculate embeddings for these titles\n",
    "    emb_batch = []\n",
    "    for title in batch_titles:\n",
    "        # Clean and split the title\n",
    "        title_clean = ''.join(char.lower() if char.isalnum() or char.isspace() else '' for char in title)\n",
    "        words = title_clean.split()\n",
    "        \n",
    "        # Get word embeddings and average them\n",
    "        indices = [wtoi[w] for w in words if w in wtoi]\n",
    "        if len(indices) > 0:  # Check if we found any valid words\n",
    "            word_embeddings = C[indices]\n",
    "            avg_embedding = word_embeddings.mean(dim=0)\n",
    "        else:  # If no valid words found, use a zero vector\n",
    "            avg_embedding = torch.zeros(emb_dim)\n",
    "        \n",
    "        emb_batch.append(avg_embedding)\n",
    "    \n",
    "    # Stack all embeddings into a single tensor\n",
    "    emb = torch.stack(emb_batch)\n",
    "    \n",
    "    # Forward pass through the network\n",
    "    x = torch.tanh(emb @ W1 + b1)  \n",
    "    for W, b in zip(Ws, bs): \n",
    "        x = torch.tanh(x @ W + b)\n",
    "    logits = x @ Wlast + blast\n",
    "    loss = F.cross_entropy(logits,Y) \n",
    "\n",
    "    return loss\n",
    "\n",
    "ldev = deep_model_test(Xdev, Ydev)\n",
    "ltest = deep_model_test(Xte, Yte)\n",
    "ltrain = deep_model_test(Xtr, Ytr)\n",
    "print(\"ltrain : \", ltrain)\n",
    "print(\"dev : \", ldev)\n",
    "print(\"test : \", ltest)"
   ]
  },
  {
   "cell_type": "code",
   "execution_count": 86,
   "metadata": {},
   "outputs": [
    {
     "data": {
      "image/png": "[encoded data removed]",
      "text/plain": [
       "<Figure size 640x480 with 1 Axes>"
      ]
     },
     "metadata": {},
     "output_type": "display_data"
    }
   ],
   "source": [
    "# Plot 1: Loss over training iterations (averaged over 1000 iterations)\n",
    "plt.figure()\n",
    "plt.plot(torch.tensor(lossi).view(-1, 1000).mean(1))\n",
    "plt.xlabel('Training Steps (x1000)')\n",
    "plt.ylabel('Average Loss')\n",
    "plt.title('Training Loss Over Time')\n",
    "plt.show()\n",
    "\n",
    "# Plot 2: Loss vs Learning Rate (averaged over 100 iterations)\n",
    "# plt.figure()\n",
    "# plt.plot(torch.tensor(lri).view(-1, 100).mean(1), torch.tensor(lossi).view(-1, 100).mean(1))\n",
    "# plt.xlabel('Learning Rate')\n",
    "# plt.ylabel('Average Loss')\n",
    "# plt.title('Loss vs Learning Rate')\n",
    "# plt.xscale('log')  # Learning rate is typically better viewed in log scale\n",
    "# plt.grid(True)\n",
    "# plt.show()"
   ]
  },
  {
   "cell_type": "code",
   "execution_count": 89,
   "metadata": {},
   "outputs": [
    {
     "name": "stdout",
     "output_type": "stream",
     "text": [
      "5 papers predictions:\n",
      "\n",
      "Title: The Symbol Grounding Problem\n",
      "True category: Artificial Intelligence\n",
      "\n",
      "Predicted probabilities:\n",
      "Machine Learning: 37.62%\n",
      "Computer Vision and Pattern Recognition: 25.85%\n",
      "Artificial Intelligence: 19.66%\n",
      "others: 8.34%\n",
      "Computation and Language (Natural Language Processing): 5.37%\n",
      "Machine Learning (Statistics): 3.16%\n",
      "\n",
      "Title: Automatic Posterior Transformation for Likelihood-Free Inference\n",
      "True category: Machine Learning\n",
      "\n",
      "Predicted probabilities:\n",
      "Machine Learning: 38.82%\n",
      "Computer Vision and Pattern Recognition: 25.19%\n",
      "Artificial Intelligence: 18.26%\n",
      "others: 9.27%\n",
      "Computation and Language (Natural Language Processing): 5.72%\n",
      "Machine Learning (Statistics): 2.74%\n",
      "\n",
      "Title: Graph Construction with Flexible Nodes for Traffic Demand Prediction\n",
      "True category: Machine Learning\n",
      "\n",
      "Predicted probabilities:\n",
      "Machine Learning: 37.79%\n",
      "Computer Vision and Pattern Recognition: 25.45%\n",
      "Artificial Intelligence: 18.55%\n",
      "others: 9.52%\n",
      "Computation and Language (Natural Language Processing): 5.95%\n",
      "Machine Learning (Statistics): 2.74%\n",
      "\n",
      "Title: Local Multiple Directional Pattern of Palmprint Image\n",
      "True category: Computer Vision and Pattern Recognition\n",
      "\n",
      "Predicted probabilities:\n",
      "Machine Learning: 39.29%\n",
      "Computer Vision and Pattern Recognition: 25.28%\n",
      "Artificial Intelligence: 19.27%\n",
      "others: 9.44%\n",
      "Computation and Language (Natural Language Processing): 4.35%\n",
      "Machine Learning (Statistics): 2.37%\n",
      "\n",
      "Title: Adversarial Intrinsic Motivation for Reinforcement Learning\n",
      "True category: Machine Learning\n",
      "\n",
      "Predicted probabilities:\n",
      "Machine Learning: 38.56%\n",
      "Computer Vision and Pattern Recognition: 25.65%\n",
      "Artificial Intelligence: 18.13%\n",
      "others: 8.65%\n",
      "Computation and Language (Natural Language Processing): 5.84%\n",
      "Machine Learning (Statistics): 3.18%\n"
     ]
    }
   ],
   "source": [
    "# forward\n",
    "emb = C[Xte] \n",
    "x = torch.tanh(emb @ W1 + b1)  \n",
    "for W, b in zip(Ws, bs): \n",
    "    x = torch.tanh(x @ W + b)\n",
    "logits = x @ Wlast + blast\n",
    "probs = F.softmax(logits, dim=1)\n",
    "\n",
    "# Display last 5 results\n",
    "print(\"5 papers predictions:\")\n",
    "indices = torch.randint(0, len(papers_shuffled.iloc[n2:]), (5,))\n",
    "for idx in indices:\n",
    "    print(\"\\nTitle:\", papers_shuffled.iloc[n2:].iloc[idx.item()]['title'])\n",
    "    print(\"True category:\", papers_shuffled.iloc[n2:].iloc[idx.item()]['category'])\n",
    "    print(\"\\nPredicted probabilities:\")\n",
    "    # Sort probabilities in descending order and get corresponding categories\n",
    "    sorted_probs = [(prob.item(), cat) for prob, cat in zip(probs[idx.item()], categories)]\n",
    "    sorted_probs.sort(reverse=True)\n",
    "    for prob, cat in sorted_probs:\n",
    "        print(f\"{cat}: {prob*100:.2f}%\")"
   ]
  },
  {
   "cell_type": "markdown",
   "metadata": {},
   "source": [
    "### Conclusion : \n",
    "\n",
    "We beat the word embedding model without any optimization and with a smaller model. "
   ]
  }
 ],
 "metadata": {
  "kernelspec": {
   "display_name": "env",
   "language": "python",
   "name": "python3"
  },
  "language_info": {
   "codemirror_mode": {
    "name": "ipython",
    "version": 3
   },
   "file_extension": ".py",
   "mimetype": "text/x-python",
   "name": "python",
   "nbconvert_exporter": "python",
   "pygments_lexer": "ipython3",
   "version": "3.12.0"
  }
 },
 "nbformat": 4,
 "nbformat_minor": 2
}
